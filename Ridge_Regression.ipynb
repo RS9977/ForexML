{
  "nbformat": 4,
  "nbformat_minor": 0,
  "metadata": {
    "colab": {
      "provenance": []
    },
    "kernelspec": {
      "name": "python3",
      "display_name": "Python 3"
    },
    "language_info": {
      "name": "python"
    }
  },
  "cells": [
    {
      "cell_type": "markdown",
      "source": [
        "Import"
      ],
      "metadata": {
        "id": "1QU2hJAAw7WA"
      }
    },
    {
      "cell_type": "code",
      "source": [
        "from google.colab import drive\n",
        "\n",
        "drive.mount('/content/gdrive')\n",
        "directory = '/content/gdrive/MyDrive/EURUSD_H1.csv'\n"
      ],
      "metadata": {
        "id": "E7MPgWfswmfY",
        "colab": {
          "base_uri": "https://localhost:8080/"
        },
        "outputId": "424ba0ed-c7a9-4cd7-a091-067d91cd4660"
      },
      "execution_count": null,
      "outputs": [
        {
          "output_type": "stream",
          "name": "stdout",
          "text": [
            "Drive already mounted at /content/gdrive; to attempt to forcibly remount, call drive.mount(\"/content/gdrive\", force_remount=True).\n"
          ]
        }
      ]
    },
    {
      "cell_type": "code",
      "source": [
        "import pandas as pd\n",
        "import numpy as np\n",
        "from sklearn.linear_model import Ridge\n",
        "from sklearn.metrics import mean_squared_error\n",
        "import numpy as np # linear algebra\n",
        "import pandas as pd # data processing, CSV file I/O (e.g. pd.read_csv)\n",
        "import pandas as pd\n",
        "import dask.dataframe as dd\n",
        "import pandas as pd\n",
        "import numpy as np\n",
        "import statsmodels.api as sm\n",
        "from sklearn.preprocessing import StandardScaler, MinMaxScaler\n",
        "from sklearn.model_selection import train_test_split\n"
      ],
      "metadata": {
        "id": "Sdr64Ai-A7Fs"
      },
      "execution_count": null,
      "outputs": []
    },
    {
      "cell_type": "markdown",
      "source": [
        "Pre-Process\n"
      ],
      "metadata": {
        "id": "WjorWK6Qz-CD"
      }
    },
    {
      "cell_type": "code",
      "source": [
        "\n",
        "# Load your CSV file\n",
        "df = pd.read_csv(directory)\n",
        "\n",
        "# Drop unnecessary columns\n",
        "df = df.drop([\"Date\", \"Time\", \"Open\"], axis=1)\n",
        "\n",
        "# Normalize the \"Volume\" column\n",
        "#scaler_volume = MinMaxScaler()\n",
        "#df[\"Volume\"] = scaler_volume.fit_transform(df[\"Volume\"].values.reshape(-1, 1))\n",
        "\n",
        "# Function to scale \"High\", \"Low\", and \"Close\" for each sequence\n",
        "def scale_sequence(sequence):\n",
        "    scaler = MinMaxScaler(feature_range=(0, 1))\n",
        "    sequence[[\"Volume\"]] = scaler.fit_transform(sequence[[\"Volume\"]])\n",
        "    maxVal = sequence[\"High\"].max()\n",
        "    minVal = sequence[\"Low\"].min()\n",
        "    sequence[[\"High\", \"Low\", \"Close\"]] = (sequence[[\"High\", \"Low\", \"Close\"]] - minVal) / (maxVal - minVal) * (0.9 - 0.1) + 0.1\n",
        "    return maxVal, minVal, sequence\n",
        "\n",
        "# Create lists for features and targets\n",
        "features = []\n",
        "targets = []\n",
        "\n",
        "window_size = 504\n",
        "future_steps = 12\n",
        "MaxMin = []\n",
        "for i in range(len(df) - (window_size + future_steps)):\n",
        "    sequence = df.iloc[i:i + window_size].copy()\n",
        "\n",
        "    # Scale features\n",
        "    maxVal, minVal, sequence[[\"High\", \"Low\", \"Close\", \"Volume\"]] = scale_sequence(sequence)\n",
        "    features.append(sequence[[\"High\", \"Low\", \"Close\", \"Volume\"]])\n",
        "    # Extract target values and scale them\n",
        "    target_max_high = df.iloc[i+window_size:i+window_size + future_steps][\"High\"].max()\n",
        "    target_min_low = df.iloc[i+window_size:i+window_size + future_steps][\"Low\"].min()\n",
        "    '''\n",
        "    close           = df.iloc[i+window_size-1][\"Close\"].mean()\n",
        "    label = 0\n",
        "    if target_min_low >= close:\n",
        "      label = 1\n",
        "    elif target_max_high <= close:\n",
        "      label = -1\n",
        "    elif abs((target_max_high-close)/(target_min_low-close))>2:\n",
        "      label = 1\n",
        "    elif abs((target_max_high-close)/(target_min_low-close))<1/2:\n",
        "      label = -1\n",
        "    targets.append(label)\n",
        "    '''\n",
        "    MaxMin.append([maxVal, minVal])\n",
        "    temp_target = ([target_max_high, target_min_low]- minVal) / (maxVal - minVal) * (0.9 - 0.1) + 0.1\n",
        "    target_max_high_scaled, target_min_low_scaled = 1/(1+np.exp(-5.4931*temp_target+2.7465))\n",
        "    targets.append([target_max_high_scaled, target_min_low_scaled])\n",
        "\n",
        "\n",
        "# Convert lists to NumPy arrays\n",
        "features_array = np.array(features)\n",
        "targets_array = np.array(targets)\n",
        "MaxMin_array  = np.array(MaxMin)\n",
        "# Print the shapes of the arrays\n",
        "print(\"Features shape:\", features_array.shape)\n",
        "print(\"Targets shape:\", targets_array.shape)\n",
        "print(\"MaxMin shape:\", MaxMin_array.shape)\n",
        "\n"
      ],
      "metadata": {
        "id": "iOm2W8mI0ApF",
        "colab": {
          "base_uri": "https://localhost:8080/"
        },
        "outputId": "35735eb4-7b49-4cdb-bf19-09b17adb1628"
      },
      "execution_count": null,
      "outputs": [
        {
          "output_type": "stream",
          "name": "stdout",
          "text": [
            "Features shape: (99484, 504, 4)\n",
            "Targets shape: (99484, 2)\n",
            "MaxMin shape: (99484, 2)\n"
          ]
        }
      ]
    },
    {
      "cell_type": "code",
      "source": [
        "np.save(\"features_array.npy\", features_array)\n",
        "np.save(\"targets_array.npy\", targets_array)\n",
        "np.save(\"MaxMin_array.npy\", MaxMin_array)"
      ],
      "metadata": {
        "id": "L1js8Und46Gg"
      },
      "execution_count": null,
      "outputs": []
    },
    {
      "cell_type": "code",
      "source": [
        "features_array = np.load(\"features_array.npy\")\n",
        "targets_array = np.load(\"targets_array.npy\")\n",
        "MaxMin_array = np.load(\"MaxMin_array.npy\")"
      ],
      "metadata": {
        "id": "s4zivCH347CF"
      },
      "execution_count": null,
      "outputs": []
    },
    {
      "cell_type": "markdown",
      "source": [
        "Spilt the data X_train & X_test"
      ],
      "metadata": {
        "id": "yjlFswNh5Dh4"
      }
    },
    {
      "cell_type": "code",
      "source": [
        "test_size = 0.2  # Adjust as needed\n",
        "random_state = 42  # Set a random state for reproducibility\n",
        "X_train, X_test, y_train, y_test = train_test_split(\n",
        "    features_array, targets_array, test_size=test_size, shuffle=False, random_state=random_state\n",
        ")\n",
        "np.random.seed(random_state)  # Set the seed for reproducibility\n",
        "shuffle_indices = np.arange(X_train.shape[0])\n",
        "np.random.shuffle(shuffle_indices)\n",
        "\n",
        "X_train = X_train[shuffle_indices]\n",
        "y_train = y_train[shuffle_indices]\n",
        "\n",
        "MaxMin_train = MaxMin_array[:len(X_train),:]\n",
        "MaxMin_train = MaxMin_train[shuffle_indices]\n",
        "MaxMin_test  = MaxMin_array[len(X_train):,:]"
      ],
      "metadata": {
        "id": "Zu4mf-RO5Arq"
      },
      "execution_count": null,
      "outputs": []
    },
    {
      "cell_type": "code",
      "source": [
        "print(features_array.shape)\n",
        "print(targets_array.shape)"
      ],
      "metadata": {
        "colab": {
          "base_uri": "https://localhost:8080/"
        },
        "id": "hsD1YjMbF0fV",
        "outputId": "d77c62b6-b127-4f22-d286-ca564a6338b4"
      },
      "execution_count": null,
      "outputs": [
        {
          "output_type": "stream",
          "name": "stdout",
          "text": [
            "(99484, 504, 4)\n",
            "(99484, 2)\n"
          ]
        }
      ]
    },
    {
      "cell_type": "code",
      "source": [
        "X_subset = X_train[random_indices]\n",
        "y_subset = y_train[random_indices]\n"
      ],
      "metadata": {
        "colab": {
          "base_uri": "https://localhost:8080/",
          "height": 193
        },
        "id": "GqHLZzDQJLM5",
        "outputId": "7fff4643-008b-4fc8-ba4c-e3993062ea04"
      },
      "execution_count": null,
      "outputs": [
        {
          "output_type": "error",
          "ename": "NameError",
          "evalue": "ignored",
          "traceback": [
            "\u001b[0;31m---------------------------------------------------------------------------\u001b[0m",
            "\u001b[0;31mNameError\u001b[0m                                 Traceback (most recent call last)",
            "\u001b[0;32m<ipython-input-11-55bea2f85e13>\u001b[0m in \u001b[0;36m<cell line: 1>\u001b[0;34m()\u001b[0m\n\u001b[0;32m----> 1\u001b[0;31m \u001b[0mX_subset\u001b[0m \u001b[0;34m=\u001b[0m \u001b[0mX_train\u001b[0m\u001b[0;34m[\u001b[0m\u001b[0mrandom_indices\u001b[0m\u001b[0;34m]\u001b[0m\u001b[0;34m\u001b[0m\u001b[0;34m\u001b[0m\u001b[0m\n\u001b[0m\u001b[1;32m      2\u001b[0m \u001b[0my_subset\u001b[0m \u001b[0;34m=\u001b[0m \u001b[0my_train\u001b[0m\u001b[0;34m[\u001b[0m\u001b[0mrandom_indices\u001b[0m\u001b[0;34m]\u001b[0m\u001b[0;34m\u001b[0m\u001b[0;34m\u001b[0m\u001b[0m\n",
            "\u001b[0;31mNameError\u001b[0m: name 'random_indices' is not defined"
          ]
        }
      ]
    },
    {
      "cell_type": "markdown",
      "source": [
        "Apply Ridge Regression\n"
      ],
      "metadata": {
        "id": "sdpodRhu1KlR"
      }
    },
    {
      "cell_type": "code",
      "source": [
        "# Generate random indices to select 1000 random datapoints\n",
        "sized = len(X_train)\n",
        "random_indices = np.random.choice(len(X_train), size=sized, replace=False)\n",
        "y_pred = []\n",
        "\n",
        "# Select the subset of data\n",
        "X_subset = X_train[random_indices]\n",
        "y_subset = y_train[random_indices]\n",
        "#y_subset = np.reshape(y_subset,[1,2])\n",
        "X_subset = X_subset.reshape([sized,-1])\n",
        "# Apply Ridge Regression\n",
        "alpha = 1.0  # You can adjust the regularization strength\n",
        "ridge_model = Ridge(alpha=alpha)\n",
        "\n",
        "ridge_model.fit(X_subset, y_subset)\n",
        "\n",
        "y_pred_subset = ridge_model.predict(X_subset)\n",
        "y_pred.append(y_pred_subset)\n",
        "\n",
        "# Evaluate the model\n",
        "mse = mean_squared_error(y_train[random_indices], y_pred_subset)\n",
        "print(f'Mean Squared Error: {mse}')"
      ],
      "metadata": {
        "colab": {
          "base_uri": "https://localhost:8080/",
          "height": 245
        },
        "id": "oktweRU01MiR",
        "outputId": "2b5f3eb2-0d69-4193-d526-5f5f955a0d5e"
      },
      "execution_count": null,
      "outputs": [
        {
          "output_type": "error",
          "ename": "NameError",
          "evalue": "ignored",
          "traceback": [
            "\u001b[0;31m---------------------------------------------------------------------------\u001b[0m",
            "\u001b[0;31mNameError\u001b[0m                                 Traceback (most recent call last)",
            "\u001b[0;32m<ipython-input-2-2f6004971b39>\u001b[0m in \u001b[0;36m<cell line: 2>\u001b[0;34m()\u001b[0m\n\u001b[1;32m      1\u001b[0m \u001b[0;31m# Generate random indices to select 1000 random datapoints\u001b[0m\u001b[0;34m\u001b[0m\u001b[0;34m\u001b[0m\u001b[0m\n\u001b[0;32m----> 2\u001b[0;31m \u001b[0msized\u001b[0m \u001b[0;34m=\u001b[0m \u001b[0mlen\u001b[0m\u001b[0;34m(\u001b[0m\u001b[0mX_train\u001b[0m\u001b[0;34m)\u001b[0m\u001b[0;34m\u001b[0m\u001b[0;34m\u001b[0m\u001b[0m\n\u001b[0m\u001b[1;32m      3\u001b[0m \u001b[0mrandom_indices\u001b[0m \u001b[0;34m=\u001b[0m \u001b[0mnp\u001b[0m\u001b[0;34m.\u001b[0m\u001b[0mrandom\u001b[0m\u001b[0;34m.\u001b[0m\u001b[0mchoice\u001b[0m\u001b[0;34m(\u001b[0m\u001b[0mlen\u001b[0m\u001b[0;34m(\u001b[0m\u001b[0mX_train\u001b[0m\u001b[0;34m)\u001b[0m\u001b[0;34m,\u001b[0m \u001b[0msize\u001b[0m\u001b[0;34m=\u001b[0m\u001b[0msized\u001b[0m\u001b[0;34m,\u001b[0m \u001b[0mreplace\u001b[0m\u001b[0;34m=\u001b[0m\u001b[0;32mFalse\u001b[0m\u001b[0;34m)\u001b[0m\u001b[0;34m\u001b[0m\u001b[0;34m\u001b[0m\u001b[0m\n\u001b[1;32m      4\u001b[0m \u001b[0my_pred\u001b[0m \u001b[0;34m=\u001b[0m \u001b[0;34m[\u001b[0m\u001b[0;34m]\u001b[0m\u001b[0;34m\u001b[0m\u001b[0;34m\u001b[0m\u001b[0m\n\u001b[1;32m      5\u001b[0m \u001b[0;34m\u001b[0m\u001b[0m\n",
            "\u001b[0;31mNameError\u001b[0m: name 'X_train' is not defined"
          ]
        }
      ]
    },
    {
      "cell_type": "code",
      "source": [
        "X_subset = X_test.reshape([len(X_test),-1])\n",
        "y_pred_subset = ridge_model.predict(X_subset)\n",
        "mse = mean_squared_error(y_test, y_pred_subset)\n",
        "print(f'Mean Squared Error: {mse}')"
      ],
      "metadata": {
        "colab": {
          "base_uri": "https://localhost:8080/"
        },
        "id": "4uvwjTSnb8VK",
        "outputId": "477d4f7e-1b7c-4d9f-e4e1-338ac20970d7"
      },
      "execution_count": null,
      "outputs": [
        {
          "output_type": "stream",
          "name": "stdout",
          "text": [
            "Mean Squared Error: 0.0037162246271593546\n"
          ]
        }
      ]
    },
    {
      "cell_type": "markdown",
      "source": [
        "Generating Multiple Alphas\n"
      ],
      "metadata": {
        "id": "vl1EyULkfU8p"
      }
    },
    {
      "cell_type": "code",
      "source": [
        "# Generate random indices to select 1000 random datapoints\n",
        "sized = len(X_train)\n",
        "random_indices = np.random.choice(len(X_train), size=sized, replace=False)\n",
        "y_pred = []\n",
        "# Select the subset of data\n",
        "X_subset_ = X_train[random_indices]\n",
        "y_subset_ = y_train[random_indices]\n",
        "#y_subset = np.reshape(y_subset,[1,2])\n",
        "X_subset_ = X_subset_.reshape([sized,-1])\n",
        "\n",
        "# Apply Ridge Regression\n",
        "alpha_values = np.linspace(10, 550, num=60 )\n",
        "\n",
        "mse_values_pred = []\n",
        "mse_values_test = []\n",
        "\n",
        "for alpha in alpha_values:\n",
        "  ridge_model = Ridge(alpha=alpha)\n",
        "\n",
        "  ridge_model.fit(X_subset_, y_subset_)\n",
        "\n",
        "  y_pred_subset_ = ridge_model.predict(X_subset_)\n",
        "  y_pred.append(y_pred_subset_)\n",
        "\n",
        "  # Evaluate the model\n",
        "  mse_pred = mean_squared_error(y_train[random_indices], y_pred_subset_)\n",
        "  mse_values_pred.append(mse_pred)\n",
        "  #print(f'Mean Squared Error: {mse_pred}')\n",
        "\n",
        "  X_subset = X_test.reshape([len(X_test),-1])\n",
        "  y_pred_subset = ridge_model.predict(X_subset)\n",
        "  mse_test = mean_squared_error(y_test, y_pred_subset)\n",
        "  mse_values_test.append(mse_test)\n",
        "\n",
        "print(f'Mean Squared Error: {mse_values_pred}')\n",
        "print(f'Mean Squared Error: {mse_values_test}')\n"
      ],
      "metadata": {
        "colab": {
          "base_uri": "https://localhost:8080/"
        },
        "id": "Rq6MIAQ1fbD-",
        "outputId": "b17fcdc4-7cc4-497d-b2f6-f5799899d1ba"
      },
      "execution_count": null,
      "outputs": [
        {
          "output_type": "stream",
          "name": "stdout",
          "text": [
            "Mean Squared Error: [0.0035642486646374275, 0.0035911462758151445, 0.0036142348964963555, 0.00363483972920491, 0.003653597994928855, 0.0036709116467819776, 0.0036870583724383328, 0.0037022396173729743, 0.0037166066207213917, 0.0037302760342661856, 0.003743339859042084, 0.003755872034843029, 0.0037679329555890496, 0.003779572649149891, 0.0037908330698810354, 0.0038017497857746434, 0.003812353242869844, 0.003822669728343695, 0.003832722114855469, 0.0038425304434458163, 0.0038521123854902005, 0.0038614836128051055, 0.003870658097132387, 0.0038796483547012504, 0.0038884656476259804, 0.0038971201510496155, 0.003905621092861599, 0.003913976871270561, 0.003922195154359275, 0.003930282964871841, 0.003938246752816851, 0.003946092457951432, 0.003953825563814472, 0.003961451144660602, 0.0039689739063990485, 0.00397639822244529, 0.0039837281652362316, 0.003990967534029909, 0.003998119879511449, 0.004005188525641469, 0.004012176589113027, 0.004019086996730802, 0.0040259225009746415, 0.004032685693974818, 0.00403937902009149, 0.00404600478726464, 0.004052565177277806, 0.004059062255059636, 0.0040654979771307925, 0.004071874199289956, 0.004078192683620658, 0.004084455104890255, 0.004090663056405437, 0.004096818055376853, 0.004102921547844075, 0.004108974913203551, 0.0041149794683768455, 0.004120936471654268, 0.004126847126243366, 0.004132712583549994]\n",
            "Mean Squared Error: [0.0037064861425330827, 0.003720544029124341, 0.003736797635778096, 0.00375311459699658, 0.0037689684174376905, 0.0037842290690299433, 0.003798889012425064, 0.0038129805026628134, 0.0038265470565544382, 0.0038396330299487872, 0.0038522798824134835, 0.0038645250517564305, 0.003876401861109998, 0.0038879398161276507, 0.0038991650239254706, 0.003910100622418039, 0.003920767176573844, 0.003931183027728572, 0.003941364594779655, 0.003951326631145109, 0.003961082443008572, 0.003970644074505121, 0.003980022465031088, 0.003989227583187891, 0.003998268541182588, 0.004007153692880584, 0.004015890718160006, 0.00402448669576031, 0.004032948166435809, 0.004041281187912223, 0.004049491382888204, 0.004057583981112891, 0.004065563856399481, 0.004073435559293964, 0.004081203346002201, 0.004088871204083114, 0.004096442875337949, 0.004103921876259243, 0.004111311516350079, 0.004118614914577363, 0.004125835014187465, 0.004132974596077766, 0.004140036290893417, 0.004147022589994769, 0.004153935855421065, 0.004160778328961567, 0.004167552140429079, 0.004174259315220509, 0.00418090178123799, 0.004187481375235492, 0.004193999848648012, 0.004200458872954102, 0.004206860044616839, 0.00421320488964224, 0.004219494867791345, 0.004225731376477476, 0.004231915754376465, 0.004238049284775558, 0.004244133198683684, 0.004250168677723447]\n"
          ]
        }
      ]
    },
    {
      "cell_type": "code",
      "source": [],
      "metadata": {
        "colab": {
          "base_uri": "https://localhost:8080/"
        },
        "id": "drPatAsTi9te",
        "outputId": "889fdef4-671f-4292-9e1e-1d731acf4b6e"
      },
      "execution_count": null,
      "outputs": [
        {
          "output_type": "stream",
          "name": "stdout",
          "text": [
            "(79587, 2016)\n",
            "(79587, 2)\n"
          ]
        }
      ]
    },
    {
      "cell_type": "markdown",
      "source": [
        "Plotting\n"
      ],
      "metadata": {
        "id": "zE20cOn7oD7t"
      }
    },
    {
      "cell_type": "code",
      "source": [
        "import matplotlib.pyplot as plt\n",
        "\n",
        "# Example x values\n",
        "x_values = alpha_values\n",
        "\n",
        "# Example y values for two lines\n",
        "y_values_line1 =  mse_values_test\n",
        "y_values_line2 = mse_values_pred\n",
        "\n",
        "# Plotting the first line\n",
        "plt.plot(x_values, y_values_line1, label='Test - MSE', marker='o', linestyle='-')\n",
        "\n",
        "# Plotting the second line\n",
        "plt.plot(x_values, y_values_line2, label='Train - MSE', marker='s', linestyle='--')\n",
        "\n",
        "# Adding labels and title\n",
        "plt.xlabel('Alpha')\n",
        "plt.ylabel('MSE')\n",
        "plt.title('Mean Square Error')\n",
        "\n",
        "# Adding a legend\n",
        "plt.legend()\n",
        "\n",
        "# Display the plot\n",
        "plt.show()\n"
      ],
      "metadata": {
        "colab": {
          "base_uri": "https://localhost:8080/",
          "height": 472
        },
        "id": "fTbp0nLYoHhD",
        "outputId": "fcb25897-ec7d-4d53-a04a-8f45fd67a8a7"
      },
      "execution_count": null,
      "outputs": [
        {
          "output_type": "display_data",
          "data": {
            "text/plain": [
              "<Figure size 640x480 with 1 Axes>"
            ],
            "image/png": "[encoded data removed]"
          },
          "metadata": {}
        }
      ]
    }
  ]
}